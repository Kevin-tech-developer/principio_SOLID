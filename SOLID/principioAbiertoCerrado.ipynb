{
 "cells": [
  {
   "cell_type": "markdown",
   "id": "b6428996",
   "metadata": {},
   "source": [
    "# Principio abierto/cerrado(OCP)\n",
    "definicion: las entidades de software deben estar abiertas para extension, pero cerrradas para modificaciones\n",
    "\n",
    "## ejemplo de violacion"
   ]
  },
  {
   "cell_type": "code",
   "execution_count": null,
   "id": "bd6ae20f",
   "metadata": {},
   "outputs": [],
   "source": [
    "public class BadAreaCalculator {\n",
    "    public double calculateTotalArea(List<Object> shapes) {\n",
    "        double totalArea = 0;\n",
    "        for (Object shape : shapes) {\n",
    "            if (shape instanceof Rectangle) {\n",
    "                totalArea += ((Rectangle) shape).getArea();\n",
    "            } else if (shape instanceof Circle) {\n",
    "                totalArea += ((Circle) shape).getArea();\n",
    "            }\n",
    "        }\n",
    "        return totalArea;\n",
    "    }\n",
    "}"
   ]
  },
  {
   "cell_type": "markdown",
   "id": "46d66fc2",
   "metadata": {},
   "source": [
    "## refactorizacion"
   ]
  },
  {
   "cell_type": "markdown",
   "id": "2b8e6752",
   "metadata": {},
   "source": [
    "public interface Shape {\n",
    "    double calculateArea();\n",
    "}"
   ]
  },
  {
   "cell_type": "code",
   "execution_count": null,
   "id": "79f26e69",
   "metadata": {},
   "outputs": [],
   "source": [
    "\n",
    "public class Rectangle implements Shape {\n",
    "    @Override\n",
    "    public double calculateArea() {\n",
    "        return width * height;\n",
    "    }\n",
    "}\n",
    "\n",
    "public class Circle implements Shape {\n",
    "    @Override\n",
    "    public double calculateArea() {\n",
    "        return Math.PI * radius * radius;\n",
    "    }\n",
    "}\n",
    "\n",
    "public class GoodAreaCalculator {\n",
    "    public double calculateTotalArea(List<Shape> shapes) {\n",
    "        return shapes.stream().mapToDouble(Shape::calculateArea).sum();\n",
    "    }\n",
    "}"
   ]
  }
 ],
 "metadata": {
  "language_info": {
   "name": "python"
  }
 },
 "nbformat": 4,
 "nbformat_minor": 5
}
