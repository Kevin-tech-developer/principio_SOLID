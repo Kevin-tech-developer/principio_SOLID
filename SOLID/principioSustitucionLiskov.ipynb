{
 "cells": [
  {
   "cell_type": "markdown",
   "id": "911d022e",
   "metadata": {},
   "source": [
    "# Principio de sustitucion LISKOV (SLP)\n",
    "definicion: las subclases deben ser sustituibles por sus clases sin alterar el comportamiento esperado\n",
    "\n",
    "## ejemplo de violacion"
   ]
  },
  {
   "cell_type": "code",
   "execution_count": null,
   "id": "b9dd58f6",
   "metadata": {},
   "outputs": [],
   "source": [
    "public class Rectangle {\n",
    "    public void setWidth(int width) { ... }\n",
    "    public void setHeight(int height) { ... }\n",
    "}\n",
    "\n",
    "public class Square extends Rectangle {\n",
    "    @Override\n",
    "    public void setWidth(int width) {\n",
    "        super.setWidth(width);\n",
    "        super.setHeight(width);\n",
    "    }\n",
    "}"
   ]
  },
  {
   "cell_type": "markdown",
   "id": "0dc89f69",
   "metadata": {},
   "source": [
    "#### solucion\n",
    "* evitar herencia directa si no cumple el contrato esperado\n",
    "* usar abstraccion comun(shape)\n",
    "* en lugar de forzar herencia entre y, se define una abstraccion mas general, rectangle square\n",
    "## interfaz shape"
   ]
  },
  {
   "cell_type": "markdown",
   "id": "43870ffb",
   "metadata": {},
   "source": [
    "public interface Shape {\n",
    "    double calculateArea();\n",
    "}"
   ]
  },
  {
   "cell_type": "markdown",
   "id": "052a82cb",
   "metadata": {},
   "source": [
    "### implementacion Rectangle"
   ]
  },
  {
   "cell_type": "code",
   "execution_count": null,
   "id": "c4d9f5f8",
   "metadata": {},
   "outputs": [],
   "source": [
    "public class Rectangle implements Shape {\n",
    "    private int width;\n",
    "    private int height;\n",
    "\n",
    "    public Rectangle(int width, int height) {\n",
    "        this.width = width;\n",
    "        this.height = height;\n",
    "    }\n",
    "\n",
    "    @Override\n",
    "    public double calculateArea() {\n",
    "        return width * height;\n",
    "    }\n",
    "\n",
    "    // getters y setters\n",
    "    public int getWidth() { return width; }\n",
    "    public void setWidth(int width) { this.width = width; }\n",
    "    public int getHeight() { return height; }\n",
    "    public void setHeight(int height) { this.height = height; }\n",
    "}"
   ]
  },
  {
   "cell_type": "markdown",
   "id": "15e2f28e",
   "metadata": {},
   "source": [
    "### implemetacion Square"
   ]
  },
  {
   "cell_type": "code",
   "execution_count": null,
   "id": "c5c281e5",
   "metadata": {},
   "outputs": [],
   "source": [
    "public class Square implements Shape {\n",
    "    private int side;\n",
    "\n",
    "    public Square(int side) {\n",
    "        this.side = side;\n",
    "    }\n",
    "\n",
    "    @Override\n",
    "    public double calculateArea() {\n",
    "        return side * side;\n",
    "    }\n",
    "\n",
    "    // getter y setter\n",
    "    public int getSide() { return side; }\n",
    "    public void setSide(int side) { this.side = side; }\n",
    "}"
   ]
  },
  {
   "cell_type": "markdown",
   "id": "b5a9cc8c",
   "metadata": {},
   "source": [
    "## ventaja\n",
    "* tanto como implementan shape, pero no se henredan entre si/ rentangle square\n",
    "* asi, ambos cumplen el contrato de la abstracion y se pueden sustituir sin alterar el comportamiento. shape"
   ]
  }
 ],
 "metadata": {
  "language_info": {
   "name": "python"
  }
 },
 "nbformat": 4,
 "nbformat_minor": 5
}
