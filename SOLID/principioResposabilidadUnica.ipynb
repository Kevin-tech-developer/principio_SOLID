{
 "cells": [
  {
   "cell_type": "markdown",
   "id": "953e599b",
   "metadata": {},
   "source": [
    "# Principio de resposabilidad unica\n",
    "definicion: una clase debe tener una, y solo una, razon para cambiar, esto significa que debe tener una unica responsabilidad bien definidad"
   ]
  },
  {
   "cell_type": "markdown",
   "id": "1e79d27b",
   "metadata": {},
   "source": [
    "## ejemplo de violacion"
   ]
  },
  {
   "cell_type": "code",
   "execution_count": null,
   "id": "aeba79cc",
   "metadata": {},
   "outputs": [],
   "source": [
    "public class BadReportGenerator {\n",
    "    public String generateReportData() {\n",
    "        // Generar datos del informe\n",
    "        return \"Datos del Informe\";\n",
    "    }\n",
    "\n",
    "    public void saveToFile(String reportData, String filename) {\n",
    "        // Guardar en archivo\n",
    "    }\n",
    "\n",
    "    public void sendEmail(String reportData, String emailAddress) {\n",
    "        // Enviar por email\n",
    "    }\n",
    "}"
   ]
  },
  {
   "cell_type": "markdown",
   "id": "1d19b63f",
   "metadata": {},
   "source": [
    "## refactorizacion"
   ]
  },
  {
   "cell_type": "code",
   "execution_count": null,
   "id": "05eda1e7",
   "metadata": {},
   "outputs": [],
   "source": [
    "public class ReportDataGenerator {\n",
    "    public String generateReportData() {\n",
    "        return \"Datos del Informe\";\n",
    "    }\n",
    "}\n",
    "\n",
    "public class ReportSaver {\n",
    "    public void saveToFile(String reportData, String filename) {\n",
    "        // Guardar en archivo\n",
    "    }\n",
    "}\n",
    "\n",
    "public class ReportEmailSender {\n",
    "    public void sendEmail(String reportData, String emailAddress) {\n",
    "        // Enviar por email\n",
    "    }\n",
    "}"
   ]
  }
 ],
 "metadata": {
  "kernelspec": {
   "display_name": "Python 3",
   "language": "python",
   "name": "python3"
  },
  "language_info": {
   "codemirror_mode": {
    "name": "ipython",
    "version": 3
   },
   "file_extension": ".py",
   "mimetype": "text/x-python",
   "name": "python",
   "nbconvert_exporter": "python",
   "pygments_lexer": "ipython3",
   "version": "3.13.4"
  }
 },
 "nbformat": 4,
 "nbformat_minor": 5
}
