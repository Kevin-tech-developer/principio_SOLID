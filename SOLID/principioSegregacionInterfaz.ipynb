{
 "cells": [
  {
   "cell_type": "markdown",
   "id": "05d4758a",
   "metadata": {},
   "source": [
    "# Principio de segregacion de interfaz(ISP)\n",
    "definicion: los clientees no deben ser forzados a depender de interfaces que no usan\n",
    "\n",
    "## ejemplo de violacion"
   ]
  },
  {
   "cell_type": "markdown",
   "id": "2e200996",
   "metadata": {},
   "source": [
    "interface BadRobot {\n",
    "    void run();\n",
    "    void fly();\n",
    "    void drill();\n",
    "}"
   ]
  },
  {
   "cell_type": "markdown",
   "id": "2885df03",
   "metadata": {},
   "source": [
    "## Refactorizacion"
   ]
  },
  {
   "cell_type": "markdown",
   "id": "63902f0e",
   "metadata": {},
   "source": [
    "interface Movable {\n",
    "    void run();\n",
    "}\n",
    "\n",
    "interface Flying {\n",
    "    void fly();\n",
    "}\n",
    "\n",
    "interface Drilling {\n",
    "    void drill();\n",
    "}"
   ]
  }
 ],
 "metadata": {
  "kernelspec": {
   "display_name": "Python 3",
   "language": "python",
   "name": "python3"
  },
  "language_info": {
   "codemirror_mode": {
    "name": "ipython",
    "version": 3
   },
   "file_extension": ".py",
   "mimetype": "text/x-python",
   "name": "python",
   "nbconvert_exporter": "python",
   "pygments_lexer": "ipython3",
   "version": "3.13.4"
  }
 },
 "nbformat": 4,
 "nbformat_minor": 5
}
