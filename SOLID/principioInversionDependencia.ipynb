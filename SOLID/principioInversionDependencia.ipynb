{
 "cells": [
  {
   "cell_type": "markdown",
   "id": "6069c484",
   "metadata": {},
   "source": [
    "# Principio inversion de dependencia(DIP)\n",
    "\n",
    "El principio dice:\n",
    "1. Los módulos de alto nivel (los que contienen lógica importante de negocio) no deben depender de módulos de bajo nivel (los que hacen tareas específicas como guardar en base de datos, enviar correos, etc.). \\\n",
    "2. Ambos deben depender de una abstracción (interfaz o clase abstracta).\n",
    "\n",
    "Esto evita que el código de negocio se \"acople\" a detalles técnicos, y facilita cambiar implementaciones sin romper todo.\n",
    "\n",
    "## ejemplo sin DIP(malo)\n",
    "imagina que tenemos un sistema de notificaciones"
   ]
  },
  {
   "cell_type": "code",
   "execution_count": null,
   "id": "081d0a9c",
   "metadata": {},
   "outputs": [],
   "source": [
    "public class EmailService {\n",
    "    public void sendEmail(String message) {\n",
    "        System.out.println(\"Enviando email: \" + message);\n",
    "    }\n",
    "}\n",
    "\n",
    "public class NotificationManager {\n",
    "    private EmailService emailService = new EmailService();\n",
    "\n",
    "    public void send(String message) {\n",
    "        emailService.sendEmail(message);\n",
    "    }\n",
    "}"
   ]
  },
  {
   "cell_type": "markdown",
   "id": "274b8a48",
   "metadata": {},
   "source": [
    "### ❌Problema\n",
    "* NotificationManager (modulo de alto nivel) depende directamente de (detalle de bajo nivel)./EmailService\n",
    "* si mañana quiero enviar whatsapp o sms, tengo que modificar NotificationManager\n",
    "\n",
    "## Ejemplo aplicando DIP(bueno)\n",
    "### creamos una abstraccion"
   ]
  },
  {
   "cell_type": "code",
   "execution_count": null,
   "id": "651a3699",
   "metadata": {},
   "outputs": [],
   "source": [
    "public interface MessageService {\n",
    "    void sendMessage(String message);\n",
    "}"
   ]
  },
  {
   "cell_type": "markdown",
   "id": "fcfeb399",
   "metadata": {},
   "source": [
    "### implementacion de bajo nivel"
   ]
  },
  {
   "cell_type": "code",
   "execution_count": null,
   "id": "b0eed796",
   "metadata": {},
   "outputs": [],
   "source": [
    "public class EmailService implements MessageService {\n",
    "    @Override\n",
    "    public void sendMessage(String message) {\n",
    "        System.out.println(\"Enviando email: \" + message);\n",
    "    }\n",
    "}\n",
    "\n",
    "public class SmsService implements MessageService {\n",
    "    @Override\n",
    "    public void sendMessage(String message) {\n",
    "        System.out.println(\"Enviando SMS: \" + message);\n",
    "    }\n",
    "}"
   ]
  },
  {
   "cell_type": "markdown",
   "id": "2d00efc1",
   "metadata": {},
   "source": [
    "### modulo de alto nivel (idependiente de detalles)"
   ]
  },
  {
   "cell_type": "code",
   "execution_count": null,
   "id": "179bdce5",
   "metadata": {},
   "outputs": [],
   "source": [
    "public class NotificationManager {\n",
    "    private MessageService service;\n",
    "\n",
    "    // Inyección de dependencia\n",
    "    public NotificationManager(MessageService service) {\n",
    "        this.service = service;\n",
    "    }\n",
    "\n",
    "    public void send(String message) {\n",
    "        service.sendMessage(message);\n",
    "    }\n",
    "}"
   ]
  },
  {
   "cell_type": "markdown",
   "id": "d9f56844",
   "metadata": {},
   "source": [
    "## uso del sistema"
   ]
  },
  {
   "cell_type": "code",
   "execution_count": null,
   "id": "861648ca",
   "metadata": {},
   "outputs": [],
   "source": [
    "public class Main {\n",
    "    public static void main(String[] args) {\n",
    "        // Puedo elegir la implementación que quiera:\n",
    "        MessageService email = new EmailService();\n",
    "        NotificationManager notification1 = new NotificationManager(email);\n",
    "        notification1.send(\"Hola por Email\");\n",
    "\n",
    "        MessageService sms = new SmsService();\n",
    "        NotificationManager notification2 = new NotificationManager(sms);\n",
    "        notification2.send(\"Hola por SMS\");\n",
    "    }\n",
    "}"
   ]
  },
  {
   "cell_type": "markdown",
   "id": "04bb2200",
   "metadata": {},
   "source": [
    "### ventaja\n",
    "* NotificationManager no sabe si el mensaje se envia por email, sms, whatsapp, etc\n",
    "* solo depende de la abstraccion. MessageService\n",
    "* esto hace el sistema flexible, facil de mantener y extensible\n",
    "\n",
    "### Analogia simple\n",
    "el DIP es como usar un echufe universal\n",
    "* tu televisor(modulo de alto nivel) no deberia depender de si la corriente es de pared, bateria o panel solar(detalles de bajo nivel)\n",
    "* ambos dependen de un enchufe estandar (abstraccion) que conecta todo"
   ]
  }
 ],
 "metadata": {
  "language_info": {
   "name": "python"
  }
 },
 "nbformat": 4,
 "nbformat_minor": 5
}
